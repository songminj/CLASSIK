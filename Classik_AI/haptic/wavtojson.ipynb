version https://git-lfs.github.com/spec/v1
oid sha256:e53ff2c1ca0faa283b51a68e01fdafec7f6dfd45dc4db13e124edfeeeaaddb5a
size 130284
