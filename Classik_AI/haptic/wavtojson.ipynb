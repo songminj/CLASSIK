version https://git-lfs.github.com/spec/v1
oid sha256:a2cf632f25a69db842fd285d6330b76c3076439086ccdeeb0b9dcb14d5aed2b1
size 16032
